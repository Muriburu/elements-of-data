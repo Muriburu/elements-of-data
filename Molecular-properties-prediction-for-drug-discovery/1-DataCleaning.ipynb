{
 "cells": [
  {
   "cell_type": "markdown",
   "metadata": {},
   "source": [
    "# **MACHINE LEARNING INSIGHTS FOR PREDICTING ORAL DRUGS PROPERTIES**\n",
    "##### LUCIANA OLIVEIRA & MARÍA URIBURU GRAY\n",
    "###### 12/12/2024"
   ]
  },
  {
   "cell_type": "markdown",
   "metadata": {},
   "source": [
    "## Dataset from Kaggle\n",
    "\n",
    "###  Wikipedia Molecules Properties Dataset\n",
    "\n",
    "    https://www.kaggle.com/datasets/thedevastator/wikipedia-molecules-properties-dataset"
   ]
  },
  {
   "cell_type": "markdown",
   "metadata": {},
   "source": [
    "## 1. Data Cleaning"
   ]
  },
  {
   "cell_type": "code",
   "execution_count": 1,
   "metadata": {},
   "outputs": [],
   "source": [
    "# Standard Libraries\n",
    "import numpy as np\n",
    "import pandas as pd\n"
   ]
  },
  {
   "cell_type": "code",
   "execution_count": 2,
   "metadata": {},
   "outputs": [],
   "source": [
    "# Read and import Dataset\n",
    "df = pd.read_csv('../Molecular-properties-prediction-for-drug-discovery/dataset_molecules/properties.csv')"
   ]
  },
  {
   "cell_type": "code",
   "execution_count": 3,
   "metadata": {},
   "outputs": [],
   "source": [
    "# Column names normalisation\n",
    "df.columns = df.columns.str.replace(' ', '_').str.lower()\n",
    "df = df.rename(columns={'molecule': 'smiles_molecule'})\n",
    "df = df.rename(columns={\"lipinski's_rule_of_five\": 'lipinskis_rule_of_five'})"
   ]
  },
  {
   "cell_type": "code",
   "execution_count": 4,
   "metadata": {},
   "outputs": [
    {
     "data": {
      "text/plain": [
       "index                                     0\n",
       "row_id                                    0\n",
       "smiles_molecule                           0\n",
       "molecule_name                             0\n",
       "mannhold_logp                             0\n",
       "atomic_polarizabilities                   0\n",
       "aromatic_atoms_count                      0\n",
       "aromatic_bonds_count                      0\n",
       "element_count                             0\n",
       "bond_polarizabilities                     0\n",
       "bond_count                                0\n",
       "eccentric_connectivity_index              0\n",
       "fragment_complexity                       0\n",
       "vabc_volume_descriptor                    0\n",
       "hydrogen_bond_acceptors                   0\n",
       "hydrogen_bond_donors                      0\n",
       "largest_chain                             0\n",
       "largest_pi_chain                          0\n",
       "petitjean_number                          0\n",
       "rotatable_bonds_count                     0\n",
       "lipinskis_rule_of_five                    0\n",
       "topological_polar_surface_area            0\n",
       "vertex_adjacency_information_magnitude    0\n",
       "molecular_weight                          0\n",
       "xlogp                                     0\n",
       "zagreb_index                              0\n",
       "molecular_formula                         0\n",
       "formal_charge                             0\n",
       "formal_charge_(pos)                       0\n",
       "formal_charge_(neg)                       0\n",
       "heavy_atoms_count                         0\n",
       "molar_mass                                0\n",
       "sp3_character                             0\n",
       "rotatable_bonds_count_(non_terminal)      0\n",
       "dtype: int64"
      ]
     },
     "execution_count": 4,
     "metadata": {},
     "output_type": "execute_result"
    }
   ],
   "source": [
    "# Null values\n",
    "df.isnull().sum() # 0 null_values"
   ]
  },
  {
   "cell_type": "code",
   "execution_count": 5,
   "metadata": {},
   "outputs": [],
   "source": [
    "# Change column type\n",
    "df['atomic_polarizabilities'] = pd.to_numeric(df['atomic_polarizabilities'], errors='coerce')\n",
    "df['bond_polarizabilities'] = pd.to_numeric(df['bond_polarizabilities'], errors='coerce')\n",
    "df['vabc_volume_descriptor'] = pd.to_numeric(df['vabc_volume_descriptor'], errors='coerce')\n",
    "df['topological_polar_surface_area'] = pd.to_numeric(df['topological_polar_surface_area'], errors='coerce')\n",
    "df['molecular_weight'] = pd.to_numeric(df['molecular_weight'], errors='coerce')\n",
    "df['molar_mass'] = pd.to_numeric(df['molar_mass'], errors='coerce')"
   ]
  },
  {
   "cell_type": "code",
   "execution_count": 6,
   "metadata": {},
   "outputs": [],
   "source": [
    "# Null values after changing column types\n",
    "df.isnull().sum()\n",
    "# Drop nulls & unnecessary columns\n",
    "df = df.drop(['row_id', 'molecule_name', 'vabc_volume_descriptor'], axis=1)\n",
    "df = df.dropna(subset=['molar_mass', 'atomic_polarizabilities', \n",
    "                       'bond_polarizabilities', 'molecular_weight', \n",
    "                       'topological_polar_surface_area'])  "
   ]
  },
  {
   "cell_type": "code",
   "execution_count": 7,
   "metadata": {},
   "outputs": [
    {
     "data": {
      "text/plain": [
       "index                                     15125\n",
       "smiles_molecule                           15056\n",
       "mannhold_logp                               114\n",
       "atomic_polarizabilities                   10571\n",
       "aromatic_atoms_count                         60\n",
       "aromatic_bonds_count                         63\n",
       "element_count                               273\n",
       "bond_polarizabilities                      7076\n",
       "bond_count                                  187\n",
       "eccentric_connectivity_index               1991\n",
       "fragment_complexity                        5555\n",
       "hydrogen_bond_acceptors                      86\n",
       "hydrogen_bond_donors                         58\n",
       "largest_chain                                66\n",
       "largest_pi_chain                             56\n",
       "petitjean_number                             94\n",
       "rotatable_bonds_count                       114\n",
       "lipinskis_rule_of_five                        6\n",
       "topological_polar_surface_area             4352\n",
       "vertex_adjacency_information_magnitude      187\n",
       "molecular_weight                          10658\n",
       "xlogp                                      7451\n",
       "zagreb_index                                330\n",
       "molecular_formula                         10658\n",
       "formal_charge                                14\n",
       "formal_charge_(pos)                          14\n",
       "formal_charge_(neg)                          13\n",
       "heavy_atoms_count                           172\n",
       "molar_mass                                10658\n",
       "sp3_character                              1058\n",
       "rotatable_bonds_count_(non_terminal)         90\n",
       "dtype: int64"
      ]
     },
     "execution_count": 7,
     "metadata": {},
     "output_type": "execute_result"
    }
   ],
   "source": [
    "# Checking duplicated and unique values\n",
    "df.duplicated().sum()\n",
    "df.nunique()"
   ]
  },
  {
   "cell_type": "code",
   "execution_count": 8,
   "metadata": {},
   "outputs": [],
   "source": [
    "# Columns organised\n",
    "new_order = [\n",
    "    'index', 'smiles_molecule', 'molecular_formula',\n",
    "    'molecular_weight', 'molar_mass', 'lipinskis_rule_of_five', 'xlogp', 'mannhold_logp', 'sp3_character', \n",
    "    'fragment_complexity', 'hydrogen_bond_acceptors', 'hydrogen_bond_donors', 'topological_polar_surface_area',\n",
    "    'rotatable_bonds_count', 'rotatable_bonds_count_(non_terminal)', 'largest_chain', 'largest_pi_chain',\n",
    "    'bond_count', 'aromatic_atoms_count', 'aromatic_bonds_count',\n",
    "    'bond_polarizabilities', 'atomic_polarizabilities', \n",
    "    'eccentric_connectivity_index', 'zagreb_index', 'petitjean_number',\n",
    "    'vertex_adjacency_information_magnitude',\n",
    "    'formal_charge', 'formal_charge_(pos)', 'formal_charge_(neg)',\n",
    "    'heavy_atoms_count', 'element_count'\n",
    "]\n",
    "df = df[new_order]"
   ]
  },
  {
   "cell_type": "code",
   "execution_count": 9,
   "metadata": {},
   "outputs": [],
   "source": [
    "# Save a cleaning copy for EDA analysis\n",
    "df.to_csv('../Molecular-properties-prediction-for-drug-discovery/dataset_molecules/cleaned_data_properties.csv', index=False)"
   ]
  }
 ],
 "metadata": {
  "kernelspec": {
   "display_name": "Python 3",
   "language": "python",
   "name": "python3"
  },
  "language_info": {
   "codemirror_mode": {
    "name": "ipython",
    "version": 3
   },
   "file_extension": ".py",
   "mimetype": "text/x-python",
   "name": "python",
   "nbconvert_exporter": "python",
   "pygments_lexer": "ipython3",
   "version": "3.12.8"
  }
 },
 "nbformat": 4,
 "nbformat_minor": 2
}
