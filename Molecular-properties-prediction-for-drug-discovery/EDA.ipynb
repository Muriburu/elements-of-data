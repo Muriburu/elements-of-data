{
 "cells": [
  {
   "cell_type": "markdown",
   "metadata": {},
   "source": [
    "# **MACHINE LEARNING INSIGHTS FOR PREDICTING ORAL DRUGS PROPERTIES**\n",
    "##### LUCIANA OLIVEIRA & MARÍA URIBURU GRAY\n",
    "###### 12/12/2024"
   ]
  },
  {
   "cell_type": "markdown",
   "metadata": {},
   "source": [
    "## Dataset from Kaggle\n",
    "\n",
    "###  Wikipedia Molecules Properties Dataset\n",
    "\n",
    "    https://www.kaggle.com/datasets/thedevastator/wikipedia-molecules-properties-dataset"
   ]
  },
  {
   "cell_type": "markdown",
   "metadata": {},
   "source": [
    "## 2. Exploratory Data Analysis"
   ]
  },
  {
   "cell_type": "code",
   "execution_count": null,
   "metadata": {},
   "outputs": [],
   "source": [
    "# Import Python libraries\n",
    "import pandas as pd\n",
    "import numpy as np\n",
    "import plotly.express as px\n",
    "import plotly.graph_objects as go\n",
    "import plotly.figure_factory as ff\n",
    "from plotly.subplots import make_subplots\n",
    "import matplotlib.pyplot as plt\n",
    "import seaborn as sns\n",
    "from rdkit import Chem\n",
    "from sklearn.decomposition import PCA\n",
    "from sklearn.preprocessing import StandardScaler\n",
    "from scipy.stats import chi2"
   ]
  },
  {
   "cell_type": "code",
   "execution_count": null,
   "metadata": {},
   "outputs": [],
   "source": [
    "# Read and import Dataset\n",
    "df = pd.read_csv('../Final_project/dataset_molecules/cleaned_data_properties.csv')"
   ]
  },
  {
   "cell_type": "code",
   "execution_count": null,
   "metadata": {},
   "outputs": [],
   "source": [
    "# Correlations map\n",
    "numeric_df = df.select_dtypes(include=[np.number])\n",
    "numeric_df = numeric_df.drop(columns=['index'])\n",
    "\n",
    "correlation_matrix = numeric_df.corr(method='spearman')\n",
    "\n",
    "plt.figure(figsize=(12, 8))\n",
    "mask = np.triu(np.ones_like(correlation_matrix, dtype=bool))\n",
    "sns.heatmap(correlation_matrix, mask=mask, annot=False, cmap='coolwarm', fmt=\".2f\", linewidths=0.5)\n",
    "plt.title(\"Correlation map\", fontsize=16)\n",
    "plt.show()"
   ]
  },
  {
   "cell_type": "code",
   "execution_count": null,
   "metadata": {},
   "outputs": [],
   "source": [
    "# Molecules that meet Lipinski's criteria\n",
    "lipinski_filter = (\n",
    "    (df[\"molecular_weight\"] <= 500) &\n",
    "    (df[\"hydrogen_bond_donors\"] <= 5) &\n",
    "    (df[\"hydrogen_bond_acceptors\"] <= 10) &\n",
    "    (df[\"xlogp\"] <= 5)\n",
    ")\n",
    "df[\"Cumple_Lipinski\"] = lipinski_filter\n",
    "print(df[\"Cumple_Lipinski\"].value_counts())\n",
    "\n",
    "# Calcular los valores de cumplimiento\n",
    "lipinski_counts = df[\"Cumple_Lipinski\"].value_counts()\n",
    "# Etiquetas para el gráfico\n",
    "labels = [\"Yes\", \"No\"]\n",
    "# Colores personalizados\n",
    "colors = [\"#1f77b4\", \"#ff7f0e\"]\n",
    "# Crear el gráfico de pastel\n",
    "plt.figure(figsize=(6, 6))\n",
    "plt.pie(lipinski_counts, labels=labels, autopct=\"%1.1f%%\", startangle=90, colors=colors, textprops={'fontsize': 16})\n",
    "plt.title(\"Meets Lipinski's criteria\", fontsize=18)\n",
    "plt.show()\n",
    "plt.savefig(\"lipinski_pie_chart.png\", transparent=True, bbox_inches='tight')"
   ]
  }
 ],
 "metadata": {
  "kernelspec": {
   "display_name": "Python 3",
   "language": "python",
   "name": "python3"
  },
  "language_info": {
   "name": "python",
   "version": "3.12.8"
  }
 },
 "nbformat": 4,
 "nbformat_minor": 2
}
