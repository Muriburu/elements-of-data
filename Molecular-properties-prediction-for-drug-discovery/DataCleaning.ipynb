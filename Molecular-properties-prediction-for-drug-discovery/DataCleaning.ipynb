{
 "cells": [
  {
   "cell_type": "markdown",
   "metadata": {},
   "source": [
    "# **MACHINE LEARNING INSIGHTS FOR PREDICTING ORAL DRUGS PROPERTIES**\n",
    "##### LUCIANA OLIVEIRA & MARÍA URIBURU GRAY\n",
    "###### 12/12/2024"
   ]
  },
  {
   "cell_type": "markdown",
   "metadata": {},
   "source": [
    "## Dataset from Kaggle\n",
    "\n",
    "###  Wikipedia Molecules Properties Dataset\n",
    "\n",
    "    https://www.kaggle.com/datasets/thedevastator/wikipedia-molecules-properties-dataset"
   ]
  },
  {
   "cell_type": "markdown",
   "metadata": {},
   "source": [
    "## 1. Data Cleaning"
   ]
  },
  {
   "cell_type": "code",
   "execution_count": null,
   "metadata": {},
   "outputs": [],
   "source": [
    "# Python libraries\n",
    "\n",
    "import pandas as pd\n",
    "import numpy as np\n",
    "import plotly.express as px\n",
    "import plotly.graph_objects as go\n",
    "import plotly.figure_factory as ff\n",
    "from plotly.subplots import make_subplots\n",
    "import matplotlib.pyplot as plt\n",
    "import seaborn as sns\n",
    "from rdkit import Chem\n",
    "from sklearn.decomposition import PCA\n",
    "from sklearn.preprocessing import StandardScaler\n",
    "from scipy.stats import chi2\n",
    "from rdkit import Chem\n"
   ]
  },
  {
   "cell_type": "code",
   "execution_count": null,
   "metadata": {},
   "outputs": [],
   "source": [
    "# Read and import Dataset\n",
    "df = pd.read_csv('../../dataset_molecules/properties.csv')"
   ]
  },
  {
   "cell_type": "code",
   "execution_count": null,
   "metadata": {},
   "outputs": [],
   "source": [
    "# Column names normalisation\n",
    "df.columns = df.columns.str.replace(' ', '_').str.lower()\n",
    "df = df.rename(columns={'molecule': 'smiles_molecule'})\n",
    "df = df.rename(columns={\"lipinski's_rule_of_five\": 'lipinskis_rule_of_five'})"
   ]
  },
  {
   "cell_type": "code",
   "execution_count": null,
   "metadata": {},
   "outputs": [],
   "source": [
    "# Null values\n",
    "df.isnull().sum() # 0 null_values"
   ]
  },
  {
   "cell_type": "code",
   "execution_count": null,
   "metadata": {},
   "outputs": [],
   "source": [
    "# Change column type\n",
    "df['atomic_polarizabilities'] = pd.to_numeric(df['atomic_polarizabilities'], errors='coerce')\n",
    "df['bond_polarizabilities'] = pd.to_numeric(df['bond_polarizabilities'], errors='coerce')\n",
    "df['vabc_volume_descriptor'] = pd.to_numeric(df['vabc_volume_descriptor'], errors='coerce')\n",
    "df['topological_polar_surface_area'] = pd.to_numeric(df['topological_polar_surface_area'], errors='coerce')\n",
    "df['molecular_weight'] = pd.to_numeric(df['molecular_weight'], errors='coerce')\n",
    "df['molar_mass'] = pd.to_numeric(df['molar_mass'], errors='coerce')"
   ]
  },
  {
   "cell_type": "code",
   "execution_count": null,
   "metadata": {},
   "outputs": [],
   "source": [
    "# Null values after changing column types\n",
    "df.isnull().sum()\n",
    "# Drop nulls & unnecessary columns\n",
    "df = df.drop(['row_id', 'molecule_name', 'son_iguales', 'vabc_volume_descriptor'], axis=1)\n",
    "df = df.dropna(subset=['molar_mass', 'atomic_polarizabilities', \n",
    "                       'bond_polarizabilities', 'molecular_weight', \n",
    "                       'topological_polar_surface_area'])  "
   ]
  },
  {
   "cell_type": "code",
   "execution_count": null,
   "metadata": {},
   "outputs": [],
   "source": [
    "# Checking duplicated and unique values\n",
    "df.duplicated().sum()\n",
    "df.nunique()"
   ]
  },
  {
   "cell_type": "code",
   "execution_count": null,
   "metadata": {},
   "outputs": [],
   "source": [
    "# Columns organised\n",
    "new_order = [\n",
    "    'index', 'smiles_molecule', 'molecular_formula',\n",
    "    'molecular_weight', 'molar_mass', 'lipinskis_rule_of_five', 'xlogp', 'mannhold_logp', 'sp3_character', \n",
    "    'fragment_complexity', 'hydrogen_bond_acceptors', 'hydrogen_bond_donors', 'topological_polar_surface_area',\n",
    "    'rotatable_bonds_count', 'rotatable_bonds_count_(non_terminal)', 'largest_chain', 'largest_pi_chain',\n",
    "    'bond_count', 'aromatic_atoms_count', 'aromatic_bonds_count',\n",
    "    'bond_polarizabilities', 'atomic_polarizabilities', \n",
    "    'eccentric_connectivity_index', 'zagreb_index', 'petitjean_number',\n",
    "    'vertex_adjacency_information_magnitude',\n",
    "    'formal_charge', 'formal_charge_(pos)', 'formal_charge_(neg)',\n",
    "    'heavy_atoms_count', 'element_count'\n",
    "]\n",
    "df = df[new_order]"
   ]
  },
  {
   "cell_type": "code",
   "execution_count": null,
   "metadata": {},
   "outputs": [],
   "source": [
    "# Save a cleaning copy for EDA analysis\n",
    "df.to_csv('../../dataset_molecules/cleaned_data_properties.csv', index=False)"
   ]
  }
 ],
 "metadata": {
  "kernelspec": {
   "display_name": "Python 3",
   "language": "python",
   "name": "python3"
  },
  "language_info": {
   "name": "python",
   "version": "3.12.8"
  }
 },
 "nbformat": 4,
 "nbformat_minor": 2
}
