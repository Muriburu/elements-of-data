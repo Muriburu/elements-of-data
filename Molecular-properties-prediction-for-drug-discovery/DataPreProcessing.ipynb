{
 "cells": [
  {
   "cell_type": "markdown",
   "metadata": {},
   "source": [
    "# **MACHINE LEARNING INSIGHTS FOR PREDICTING ORAL DRUGS PROPERTIES**\n",
    "##### LUCIANA OLIVEIRA & MARÍA URIBURU GRAY\n",
    "###### 12/12/2024"
   ]
  },
  {
   "cell_type": "markdown",
   "metadata": {},
   "source": [
    "## Dataset from Kaggle\n",
    "\n",
    "###  Wikipedia Molecules Properties Dataset\n",
    "\n",
    "    https://www.kaggle.com/datasets/thedevastator/wikipedia-molecules-properties-dataset"
   ]
  },
  {
   "cell_type": "markdown",
   "metadata": {},
   "source": [
    "## 3. Data Pre-processing"
   ]
  }
 ],
 "metadata": {
  "language_info": {
   "name": "python"
  }
 },
 "nbformat": 4,
 "nbformat_minor": 2
}
